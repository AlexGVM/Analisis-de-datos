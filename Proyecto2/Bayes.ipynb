{
 "cells": [
  {
   "cell_type": "markdown",
   "metadata": {},
   "source": [
    "## Clasificador de Bayes"
   ]
  },
  {
   "cell_type": "markdown",
   "metadata": {},
   "source": [
    "### Alexander Villatoro 1182118\n",
    "### Andres Galvez 1024718\n",
    "### Sergio Lara 1044418\n",
    "### Luis Chutá 1320016"
   ]
  },
  {
   "cell_type": "code",
   "execution_count": 1,
   "metadata": {},
   "outputs": [],
   "source": [
    "import numpy as np\n",
    "import matplotlib.pyplot as plt\n",
    "import pandas as pd\n",
    "import sklearn \n",
    "from sklearn.preprocessing import LabelEncoder\n",
    "import os\n",
    "import pyodbc "
   ]
  },
  {
   "cell_type": "code",
   "execution_count": 21,
   "metadata": {},
   "outputs": [
    {
     "name": "stdout",
     "output_type": "stream",
     "text": [
      "      NombreCiudad Genero                ID_Parte  ID_Categoria  Total_Orden  \\\n",
      "0        San Diego      M  AC1100173CORE-ORIG.REC          1612     23139.50   \n",
      "1           Tacoma      F      AC1320108-ORIG.REC          2827      1041.55   \n",
      "2            Akron      M      AC1228119-ORIG.REC          3154      6207.45   \n",
      "3         Richmond      M               AC1217107          3225     13022.11   \n",
      "4           Dallas      F      AC2519105-ORIG.REC          4241      2145.25   \n",
      "5       Shreveport      F      AC1100177-ORIG.REC          2512     14485.40   \n",
      "6           Fresno      M              AC1114104C          2560      1950.12   \n",
      "7           Boston      F               AC1249128          3847      5526.56   \n",
      "8       Louisville      F               AC1228103          2598      6327.91   \n",
      "9        St. Louis      M     AC1115103C-ORIG.REC          2746      8611.97   \n",
      "10  St. Petersburg      M               AC1323113          3836     23412.15   \n",
      "11         Lubbock      F               AC1288133          2768       752.63   \n",
      "12       Rochester      M              AC1210116C          3305     19283.75   \n",
      "13           Omaha      F              AC1100176C          2211      4686.36   \n",
      "14      Washington      F               AC1115103          1483     17545.08   \n",
      "15        Columbus      M  AC2519103CORE-ORIG.REC          2290      6455.37   \n",
      "16         Seattle      F           AC1100172CORE            27     18117.99   \n",
      "17          Boston      M              AC2518110R          3623     22117.54   \n",
      "18      Montgomery      M               AC1236113          2405     17282.77   \n",
      "19          Tucson      M      AC1225123-ORIG.REC           140     20392.52   \n",
      "20       San Diego      F               AC2518103          3524       721.13   \n",
      "21         Hialeah      F               AC1240127          2441     14836.82   \n",
      "22        Stockton      M              AC1200130C          1387      4977.83   \n",
      "23      Des Moines      F     AC2518123R-ORIG.REC          2519     13813.35   \n",
      "24         Lubbock      F               AC1249127          3285      3764.30   \n",
      "25          Boston      F     AC1230128C-ORIG.REC          3262     24905.76   \n",
      "\n",
      "    TotalEncimaPromedio  \n",
      "0                     1  \n",
      "1                     0  \n",
      "2                     0  \n",
      "3                     1  \n",
      "4                     0  \n",
      "5                     1  \n",
      "6                     0  \n",
      "7                     0  \n",
      "8                     0  \n",
      "9                     0  \n",
      "10                    1  \n",
      "11                    0  \n",
      "12                    1  \n",
      "13                    0  \n",
      "14                    1  \n",
      "15                    0  \n",
      "16                    1  \n",
      "17                    1  \n",
      "18                    1  \n",
      "19                    1  \n",
      "20                    0  \n",
      "21                    1  \n",
      "22                    0  \n",
      "23                    1  \n",
      "24                    0  \n",
      "25                    1  \n"
     ]
    }
   ],
   "source": [
    "\n",
    "conn = pyodbc.connect('DRIVER={ODBC Driver 17 for SQL Server};SERVER=localhost;DATABASE=RepuestosWeb;Trusted_Connection=yes;')\n",
    "\n",
    "query = \"select * from VW_OrdenesEncimaPromedio ;\"\n",
    "df = pd.read_sql(query, conn)\n",
    "print(df.head(26))"
   ]
  },
  {
   "cell_type": "code",
   "execution_count": 19,
   "metadata": {},
   "outputs": [],
   "source": [
    "df.drop('ID_Parte',axis=1,inplace=True)\n",
    "df.drop('ID_Categoria',axis=1,inplace=True)\n",
    "df.drop('Total_Orden',axis=1,inplace=True)"
   ]
  },
  {
   "cell_type": "code",
   "execution_count": 20,
   "metadata": {},
   "outputs": [
    {
     "data": {
      "text/html": [
       "<div>\n",
       "<style scoped>\n",
       "    .dataframe tbody tr th:only-of-type {\n",
       "        vertical-align: middle;\n",
       "    }\n",
       "\n",
       "    .dataframe tbody tr th {\n",
       "        vertical-align: top;\n",
       "    }\n",
       "\n",
       "    .dataframe thead th {\n",
       "        text-align: right;\n",
       "    }\n",
       "</style>\n",
       "<table border=\"1\" class=\"dataframe\">\n",
       "  <thead>\n",
       "    <tr style=\"text-align: right;\">\n",
       "      <th></th>\n",
       "      <th>NombreCiudad</th>\n",
       "      <th>Genero</th>\n",
       "      <th>TotalEncimaPromedio</th>\n",
       "    </tr>\n",
       "  </thead>\n",
       "  <tbody>\n",
       "    <tr>\n",
       "      <th>0</th>\n",
       "      <td>San Diego</td>\n",
       "      <td>M</td>\n",
       "      <td>1</td>\n",
       "    </tr>\n",
       "    <tr>\n",
       "      <th>1</th>\n",
       "      <td>Tacoma</td>\n",
       "      <td>F</td>\n",
       "      <td>0</td>\n",
       "    </tr>\n",
       "    <tr>\n",
       "      <th>2</th>\n",
       "      <td>Akron</td>\n",
       "      <td>M</td>\n",
       "      <td>0</td>\n",
       "    </tr>\n",
       "    <tr>\n",
       "      <th>3</th>\n",
       "      <td>Richmond</td>\n",
       "      <td>M</td>\n",
       "      <td>1</td>\n",
       "    </tr>\n",
       "    <tr>\n",
       "      <th>4</th>\n",
       "      <td>Dallas</td>\n",
       "      <td>F</td>\n",
       "      <td>0</td>\n",
       "    </tr>\n",
       "    <tr>\n",
       "      <th>...</th>\n",
       "      <td>...</td>\n",
       "      <td>...</td>\n",
       "      <td>...</td>\n",
       "    </tr>\n",
       "    <tr>\n",
       "      <th>11902</th>\n",
       "      <td>Denver</td>\n",
       "      <td>F</td>\n",
       "      <td>0</td>\n",
       "    </tr>\n",
       "    <tr>\n",
       "      <th>11903</th>\n",
       "      <td>Buffalo</td>\n",
       "      <td>M</td>\n",
       "      <td>1</td>\n",
       "    </tr>\n",
       "    <tr>\n",
       "      <th>11904</th>\n",
       "      <td>Tacoma</td>\n",
       "      <td>M</td>\n",
       "      <td>1</td>\n",
       "    </tr>\n",
       "    <tr>\n",
       "      <th>11905</th>\n",
       "      <td>Bakersfield</td>\n",
       "      <td>F</td>\n",
       "      <td>1</td>\n",
       "    </tr>\n",
       "    <tr>\n",
       "      <th>11906</th>\n",
       "      <td>Greensboro</td>\n",
       "      <td>F</td>\n",
       "      <td>1</td>\n",
       "    </tr>\n",
       "  </tbody>\n",
       "</table>\n",
       "<p>11907 rows × 3 columns</p>\n",
       "</div>"
      ],
      "text/plain": [
       "      NombreCiudad Genero  TotalEncimaPromedio\n",
       "0        San Diego      M                    1\n",
       "1           Tacoma      F                    0\n",
       "2            Akron      M                    0\n",
       "3         Richmond      M                    1\n",
       "4           Dallas      F                    0\n",
       "...            ...    ...                  ...\n",
       "11902       Denver      F                    0\n",
       "11903      Buffalo      M                    1\n",
       "11904       Tacoma      M                    1\n",
       "11905  Bakersfield      F                    1\n",
       "11906   Greensboro      F                    1\n",
       "\n",
       "[11907 rows x 3 columns]"
      ]
     },
     "execution_count": 20,
     "metadata": {},
     "output_type": "execute_result"
    }
   ],
   "source": [
    "df"
   ]
  },
  {
   "cell_type": "code",
   "execution_count": 5,
   "metadata": {},
   "outputs": [
    {
     "data": {
      "text/plain": [
       "array([['San Diego', 'M'],\n",
       "       ['Tacoma', 'F'],\n",
       "       ['Akron', 'M'],\n",
       "       ...,\n",
       "       ['Tacoma', 'M'],\n",
       "       ['Bakersfield', 'F'],\n",
       "       ['Greensboro', 'F']], dtype=object)"
      ]
     },
     "execution_count": 5,
     "metadata": {},
     "output_type": "execute_result"
    }
   ],
   "source": [
    "#Almacenar las variables X y Y por separado\n",
    "X = df.iloc[:, 0:2].values\n",
    "y = df.iloc[:, -1].values\n",
    "X"
   ]
  },
  {
   "cell_type": "code",
   "execution_count": 6,
   "metadata": {},
   "outputs": [
    {
     "data": {
      "text/plain": [
       "array([[76, 1],\n",
       "       [87, 0],\n",
       "       [0, 1],\n",
       "       ...,\n",
       "       [87, 1],\n",
       "       [8, 0],\n",
       "       [34, 0]], dtype=object)"
      ]
     },
     "execution_count": 6,
     "metadata": {},
     "output_type": "execute_result"
    }
   ],
   "source": [
    "#Con Enconder podremos codificar atributos no numericos segun una escala\n",
    "\n",
    "le = LabelEncoder()\n",
    "X[:,0] = le.fit_transform(X[:,0])\n",
    "X[:,1] = le.fit_transform(X[:,1])\n",
    "X"
   ]
  },
  {
   "cell_type": "code",
   "execution_count": 7,
   "metadata": {},
   "outputs": [],
   "source": [
    "#Uscamos scikit learn para llamar a la funcion split dividiendo 80/20\n",
    "from sklearn.model_selection import train_test_split\n",
    "X_train, X_test, y_train, y_test = train_test_split(X, y, test_size = 0.20, random_state = 0)"
   ]
  },
  {
   "cell_type": "code",
   "execution_count": 8,
   "metadata": {},
   "outputs": [
    {
     "data": {
      "text/plain": [
       "GaussianNB()"
      ]
     },
     "execution_count": 8,
     "metadata": {},
     "output_type": "execute_result"
    }
   ],
   "source": [
    "#creamos el modelo de NB\n",
    "from sklearn.naive_bayes import GaussianNB\n",
    "classifier = GaussianNB()\n",
    "classifier.fit(X_train, y_train)"
   ]
  },
  {
   "cell_type": "code",
   "execution_count": 9,
   "metadata": {},
   "outputs": [
    {
     "data": {
      "text/plain": [
       "array([1, 1, 0, ..., 0, 1, 0], dtype=int64)"
      ]
     },
     "execution_count": 9,
     "metadata": {},
     "output_type": "execute_result"
    }
   ],
   "source": [
    "#Predecimos la variable dependiente usando las variables indepndientes del 20%\n",
    "y_pred  =  classifier.predict(X_test)\n",
    "y_pred"
   ]
  },
  {
   "cell_type": "code",
   "execution_count": 10,
   "metadata": {},
   "outputs": [
    {
     "data": {
      "text/plain": [
       "array([0, 0, 0, ..., 1, 0, 1], dtype=int64)"
      ]
     },
     "execution_count": 10,
     "metadata": {},
     "output_type": "execute_result"
    }
   ],
   "source": [
    "#Vemos los valores reales de Y en el 20%\n",
    "y_test"
   ]
  },
  {
   "cell_type": "code",
   "execution_count": 11,
   "metadata": {},
   "outputs": [],
   "source": [
    "#generamos matriz de confusion y precision\n",
    "from sklearn.metrics import confusion_matrix,accuracy_score\n",
    "cm = confusion_matrix(y_test, y_pred)\n",
    "ac = accuracy_score(y_test,y_pred)"
   ]
  },
  {
   "cell_type": "code",
   "execution_count": 12,
   "metadata": {},
   "outputs": [
    {
     "data": {
      "text/plain": [
       "array([[208, 993],\n",
       "       [223, 958]], dtype=int64)"
      ]
     },
     "execution_count": 12,
     "metadata": {},
     "output_type": "execute_result"
    }
   ],
   "source": [
    "#Confusion matrix\n",
    "cm"
   ]
  },
  {
   "cell_type": "code",
   "execution_count": 13,
   "metadata": {},
   "outputs": [
    {
     "data": {
      "text/plain": [
       "0.489504617968094"
      ]
     },
     "execution_count": 13,
     "metadata": {},
     "output_type": "execute_result"
    }
   ],
   "source": [
    "#Accuracy\n",
    "ac"
   ]
  },
  {
   "cell_type": "code",
   "execution_count": 14,
   "metadata": {},
   "outputs": [],
   "source": [
    "import seaborn as sns"
   ]
  },
  {
   "cell_type": "code",
   "execution_count": 15,
   "metadata": {},
   "outputs": [
    {
     "data": {
      "image/png": "[encoded data removed]",
      "text/plain": [
       "<Figure size 432x288 with 2 Axes>"
      ]
     },
     "metadata": {
      "needs_background": "light"
     },
     "output_type": "display_data"
    }
   ],
   "source": [
    "#ploteamos matriz de confusion\n",
    "ax= plt.subplot()\n",
    "sns.heatmap(cm, annot=True, fmt='g', ax=ax,cmap='Greens');  #annot=True to annotate cells, ftm='g' to disable scientific notation\n",
    "\n",
    "ax.set_xlabel('Predicciones');ax.set_ylabel('Valores reales'); \n",
    "ax.set_title('Matriz de Confusion'); \n",
    "ax.xaxis.set_ticklabels(['True', 'False']); ax.yaxis.set_ticklabels(['True', 'False']);"
   ]
  },
  {
   "cell_type": "code",
   "execution_count": 16,
   "metadata": {},
   "outputs": [
    {
     "data": {
      "image/png": "[encoded data removed]",
      "text/plain": [
       "<Figure size 432x288 with 1 Axes>"
      ]
     },
     "metadata": {
      "needs_background": "light"
     },
     "output_type": "display_data"
    },
    {
     "name": "stdout",
     "output_type": "stream",
     "text": [
      "0.4957257605678586\n"
     ]
    }
   ],
   "source": [
    "from sklearn.metrics import roc_curve\n",
    "from sklearn.metrics import roc_auc_score\n",
    "from matplotlib import pyplot\n",
    "\n",
    "# predict probabilities\n",
    "lr_probs = classifier.predict_proba(X_test)\n",
    "# keep probabilities for the positive outcome only\n",
    "lr_probs = lr_probs[:, 1]\n",
    "# calculate scores\n",
    "naiveProb = roc_auc_score(y_test, lr_probs)\n",
    "prueba1,prueba2,_ = roc_curve(y_test, lr_probs)\n",
    "pyplot.plot(prueba1, prueba2, marker='.', label='NaiveBayes')\n",
    "# axis labels\n",
    "pyplot.xlabel('False Positive Rate')\n",
    "pyplot.ylabel('True Positive Rate')\n",
    "# show the legend\n",
    "pyplot.legend()\n",
    "# show the plot\n",
    "pyplot.show()\n",
    "print(naiveProb)"
   ]
  },
  {
   "cell_type": "code",
   "execution_count": null,
   "metadata": {},
   "outputs": [],
   "source": []
  }
 ],
 "metadata": {
  "interpreter": {
   "hash": "9bda471b13ef6117d5735d91ee0151ed3df36e91ae5aa7843452afdea7d023bf"
  },
  "kernelspec": {
   "display_name": "Python 3.9.7 64-bit (windows store)",
   "name": "python3"
  },
  "language_info": {
   "codemirror_mode": {
    "name": "ipython",
    "version": 3
   },
   "file_extension": ".py",
   "mimetype": "text/x-python",
   "name": "python",
   "nbconvert_exporter": "python",
   "pygments_lexer": "ipython3",
   "version": "3.9.9"
  },
  "orig_nbformat": 4
 },
 "nbformat": 4,
 "nbformat_minor": 2
}

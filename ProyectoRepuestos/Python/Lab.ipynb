{
 "cells": [
  {
   "cell_type": "code",
   "execution_count": 40,
   "metadata": {},
   "outputs": [
    {
     "data": {
      "text/html": [
       "<div>\n",
       "<style scoped>\n",
       "    .dataframe tbody tr th:only-of-type {\n",
       "        vertical-align: middle;\n",
       "    }\n",
       "\n",
       "    .dataframe tbody tr th {\n",
       "        vertical-align: top;\n",
       "    }\n",
       "\n",
       "    .dataframe thead th {\n",
       "        text-align: right;\n",
       "    }\n",
       "</style>\n",
       "<table border=\"1\" class=\"dataframe\">\n",
       "  <thead>\n",
       "    <tr style=\"text-align: right;\">\n",
       "      <th></th>\n",
       "      <th>SK_Examen</th>\n",
       "      <th>SK_Candidato</th>\n",
       "      <th>SK_Carrera</th>\n",
       "      <th>SK_Materia</th>\n",
       "      <th>SK_Descuento</th>\n",
       "      <th>DateKey</th>\n",
       "      <th>Precio</th>\n",
       "      <th>NotaTotal</th>\n",
       "    </tr>\n",
       "    <tr>\n",
       "      <th>NombreFacultad</th>\n",
       "      <th></th>\n",
       "      <th></th>\n",
       "      <th></th>\n",
       "      <th></th>\n",
       "      <th></th>\n",
       "      <th></th>\n",
       "      <th></th>\n",
       "      <th></th>\n",
       "    </tr>\n",
       "  </thead>\n",
       "  <tbody>\n",
       "    <tr>\n",
       "      <th>Arquitectura</th>\n",
       "      <td>195</td>\n",
       "      <td>195</td>\n",
       "      <td>195</td>\n",
       "      <td>195</td>\n",
       "      <td>195</td>\n",
       "      <td>195</td>\n",
       "      <td>195</td>\n",
       "      <td>195</td>\n",
       "    </tr>\n",
       "    <tr>\n",
       "      <th>Ciencias Agricolas</th>\n",
       "      <td>73</td>\n",
       "      <td>73</td>\n",
       "      <td>73</td>\n",
       "      <td>73</td>\n",
       "      <td>73</td>\n",
       "      <td>73</td>\n",
       "      <td>73</td>\n",
       "      <td>73</td>\n",
       "    </tr>\n",
       "    <tr>\n",
       "      <th>Ciencias Economicas</th>\n",
       "      <td>193</td>\n",
       "      <td>193</td>\n",
       "      <td>193</td>\n",
       "      <td>193</td>\n",
       "      <td>193</td>\n",
       "      <td>193</td>\n",
       "      <td>193</td>\n",
       "      <td>193</td>\n",
       "    </tr>\n",
       "    <tr>\n",
       "      <th>Ciencias Politicas</th>\n",
       "      <td>224</td>\n",
       "      <td>224</td>\n",
       "      <td>224</td>\n",
       "      <td>224</td>\n",
       "      <td>224</td>\n",
       "      <td>224</td>\n",
       "      <td>224</td>\n",
       "      <td>224</td>\n",
       "    </tr>\n",
       "    <tr>\n",
       "      <th>Ingeniería</th>\n",
       "      <td>293</td>\n",
       "      <td>293</td>\n",
       "      <td>293</td>\n",
       "      <td>293</td>\n",
       "      <td>293</td>\n",
       "      <td>293</td>\n",
       "      <td>293</td>\n",
       "      <td>293</td>\n",
       "    </tr>\n",
       "    <tr>\n",
       "      <th>Medicina</th>\n",
       "      <td>220</td>\n",
       "      <td>220</td>\n",
       "      <td>220</td>\n",
       "      <td>220</td>\n",
       "      <td>220</td>\n",
       "      <td>220</td>\n",
       "      <td>220</td>\n",
       "      <td>220</td>\n",
       "    </tr>\n",
       "  </tbody>\n",
       "</table>\n",
       "</div>"
      ],
      "text/plain": [
       "                     SK_Examen  SK_Candidato  SK_Carrera  SK_Materia  \\\n",
       "NombreFacultad                                                         \n",
       "Arquitectura               195           195         195         195   \n",
       "Ciencias Agricolas          73            73          73          73   \n",
       "Ciencias Economicas        193           193         193         193   \n",
       "Ciencias Politicas         224           224         224         224   \n",
       "Ingeniería                 293           293         293         293   \n",
       "Medicina                   220           220         220         220   \n",
       "\n",
       "                     SK_Descuento  DateKey  Precio  NotaTotal  \n",
       "NombreFacultad                                                 \n",
       "Arquitectura                  195      195     195        195  \n",
       "Ciencias Agricolas             73       73      73         73  \n",
       "Ciencias Economicas           193      193     193        193  \n",
       "Ciencias Politicas            224      224     224        224  \n",
       "Ingeniería                    293      293     293        293  \n",
       "Medicina                      220      220     220        220  "
      ]
     },
     "execution_count": 40,
     "metadata": {},
     "output_type": "execute_result"
    }
   ],
   "source": [
    "import pyodbc \n",
    "import pandas as pd\n",
    "conn = pyodbc.connect('Driver={SQL Server};'\n",
    "                      'Server=localhost;'\n",
    "                      'Database=Admisiones_DWH;'\n",
    "                      'Trusted_Connection=yes;')\n",
    "\n",
    "# cursor = conn.cursor()\n",
    "# cursor.execute('SELECT e.*, c.NombreFacultad FROM Fact.Examen E INNER JOIN Dimension.Carrera C on (E.SK_Carrera = C.SK_Carrera)')\n",
    "\n",
    "# df = pd.DataFrame(cursor,columns=['SK_Examen', 'SK_Candidato', 'SK_Carrera', 'SK_Materia', 'SK_Descuento', 'DateKey', 'Precio', 'NotaTotal','NombreFacultad'])\n",
    "df= pd.io.sql.read_sql('SELECT e.*, c.NombreFacultad FROM Fact.Examen E INNER JOIN Dimension.Carrera C on (E.SK_Carrera = C.SK_Carrera)', conn)\n",
    "Query1 = df.groupby('NombreFacultad').count()\n",
    "Query1"
   ]
  },
  {
   "cell_type": "markdown",
   "metadata": {},
   "source": [
    "## Un conteo de la cantidad de candidatos agrupados por genero"
   ]
  },
  {
   "cell_type": "code",
   "execution_count": 1,
   "metadata": {},
   "outputs": [],
   "source": [
    "import pyodbc \n",
    "import pandas as pd\n",
    "conn = pyodbc.connect('Driver={SQL Server};'\n",
    "                      'Server=localhost;'\n",
    "                      'Database=Admisiones_DWH;'\n",
    "                      'Trusted_Connection=yes;')\n",
    "\n",
    "df= pd.io.sql.read_sql('''\n",
    "                          select DC.ID_Candidato, DC.Genero\n",
    "                          from Dimension.Candidato DC\n",
    "                          ''', conn)\n",
    "Query2=df.groupby('Genero').count()\n",
    "Query2"
   ]
  },
  {
   "cell_type": "markdown",
   "metadata": {},
   "source": [
    "## Un total de la cantidad de ingresos por evaluaciones (columna precio) que se ha recibido agrupado por carrera"
   ]
  },
  {
   "cell_type": "code",
   "execution_count": 30,
   "metadata": {},
   "outputs": [
    {
     "data": {
      "text/html": [
       "<div>\n",
       "<style scoped>\n",
       "    .dataframe tbody tr th:only-of-type {\n",
       "        vertical-align: middle;\n",
       "    }\n",
       "\n",
       "    .dataframe tbody tr th {\n",
       "        vertical-align: top;\n",
       "    }\n",
       "\n",
       "    .dataframe thead th {\n",
       "        text-align: right;\n",
       "    }\n",
       "</style>\n",
       "<table border=\"1\" class=\"dataframe\">\n",
       "  <thead>\n",
       "    <tr style=\"text-align: right;\">\n",
       "      <th></th>\n",
       "      <th>Precio</th>\n",
       "    </tr>\n",
       "    <tr>\n",
       "      <th>NombreCarrera</th>\n",
       "      <th></th>\n",
       "    </tr>\n",
       "  </thead>\n",
       "  <tbody>\n",
       "    <tr>\n",
       "      <th>Admin de Empresas</th>\n",
       "      <td>36377.31</td>\n",
       "    </tr>\n",
       "    <tr>\n",
       "      <th>Agronomia</th>\n",
       "      <td>34478.49</td>\n",
       "    </tr>\n",
       "    <tr>\n",
       "      <th>Arquitecrtura</th>\n",
       "      <td>29847.88</td>\n",
       "    </tr>\n",
       "    <tr>\n",
       "      <th>Ciencias sociales</th>\n",
       "      <td>32408.48</td>\n",
       "    </tr>\n",
       "    <tr>\n",
       "      <th>Contador Publico y Auditor</th>\n",
       "      <td>30255.80</td>\n",
       "    </tr>\n",
       "    <tr>\n",
       "      <th>Derecho internacional</th>\n",
       "      <td>39794.58</td>\n",
       "    </tr>\n",
       "    <tr>\n",
       "      <th>Diseño Industrial</th>\n",
       "      <td>28023.16</td>\n",
       "    </tr>\n",
       "    <tr>\n",
       "      <th>Diseño grafico</th>\n",
       "      <td>34442.38</td>\n",
       "    </tr>\n",
       "    <tr>\n",
       "      <th>Enfermeria</th>\n",
       "      <td>33767.07</td>\n",
       "    </tr>\n",
       "    <tr>\n",
       "      <th>Hoteleria</th>\n",
       "      <td>24881.99</td>\n",
       "    </tr>\n",
       "    <tr>\n",
       "      <th>Ingenieria Industrial</th>\n",
       "      <td>27979.08</td>\n",
       "    </tr>\n",
       "    <tr>\n",
       "      <th>Ingenieria Quimica</th>\n",
       "      <td>35587.91</td>\n",
       "    </tr>\n",
       "    <tr>\n",
       "      <th>Ingenieria en Informatica y Sistemas</th>\n",
       "      <td>74988.08</td>\n",
       "    </tr>\n",
       "    <tr>\n",
       "      <th>Medico y Cirujano</th>\n",
       "      <td>36193.89</td>\n",
       "    </tr>\n",
       "    <tr>\n",
       "      <th>Relaciones politicas</th>\n",
       "      <td>34286.93</td>\n",
       "    </tr>\n",
       "    <tr>\n",
       "      <th>Terapia respiratoria</th>\n",
       "      <td>34557.01</td>\n",
       "    </tr>\n",
       "  </tbody>\n",
       "</table>\n",
       "</div>"
      ],
      "text/plain": [
       "                                        Precio\n",
       "NombreCarrera                                 \n",
       "Admin de Empresas                     36377.31\n",
       "Agronomia                             34478.49\n",
       "Arquitecrtura                         29847.88\n",
       "Ciencias sociales                     32408.48\n",
       "Contador Publico y Auditor            30255.80\n",
       "Derecho internacional                 39794.58\n",
       "Diseño Industrial                     28023.16\n",
       "Diseño grafico                        34442.38\n",
       "Enfermeria                            33767.07\n",
       "Hoteleria                             24881.99\n",
       "Ingenieria Industrial                 27979.08\n",
       "Ingenieria Quimica                    35587.91\n",
       "Ingenieria en Informatica y Sistemas  74988.08\n",
       "Medico y Cirujano                     36193.89\n",
       "Relaciones politicas                  34286.93\n",
       "Terapia respiratoria                  34557.01"
      ]
     },
     "execution_count": 30,
     "metadata": {},
     "output_type": "execute_result"
    }
   ],
   "source": [
    "import pyodbc \n",
    "import pandas as pd\n",
    "conn = pyodbc.connect('Driver={SQL Server};'\n",
    "                      'Server=localhost;'\n",
    "                      'Database=Admisiones_DWH;'\n",
    "                      'Trusted_Connection=yes;')\n",
    "df= pd.io.sql.read_sql('''\n",
    "SELECT E.Precio,DC.NombreCarrera \n",
    "FROM Fact.Examen E INNER JOIN Dimension.Carrera DC ON (E.SK_Carrera = DC.SK_Carrera)\n",
    "                          ''', conn)\n",
    "Query3=df.groupby('NombreCarrera').sum()\n",
    "Query3"
   ]
  },
  {
   "cell_type": "markdown",
   "metadata": {},
   "source": [
    "## Un data frame filtrado que contenga únicamente las tres facultades con el promedio de la nota mas alto"
   ]
  },
  {
   "cell_type": "code",
   "execution_count": 57,
   "metadata": {},
   "outputs": [
    {
     "data": {
      "text/html": [
       "<div>\n",
       "<style scoped>\n",
       "    .dataframe tbody tr th:only-of-type {\n",
       "        vertical-align: middle;\n",
       "    }\n",
       "\n",
       "    .dataframe tbody tr th {\n",
       "        vertical-align: top;\n",
       "    }\n",
       "\n",
       "    .dataframe thead th {\n",
       "        text-align: right;\n",
       "    }\n",
       "</style>\n",
       "<table border=\"1\" class=\"dataframe\">\n",
       "  <thead>\n",
       "    <tr style=\"text-align: right;\">\n",
       "      <th></th>\n",
       "      <th>NotaTotal</th>\n",
       "    </tr>\n",
       "    <tr>\n",
       "      <th>NombreFacultad</th>\n",
       "      <th></th>\n",
       "    </tr>\n",
       "  </thead>\n",
       "  <tbody>\n",
       "    <tr>\n",
       "      <th>Ciencias Politicas</th>\n",
       "      <td>77.192634</td>\n",
       "    </tr>\n",
       "    <tr>\n",
       "      <th>Medicina</th>\n",
       "      <td>76.603636</td>\n",
       "    </tr>\n",
       "    <tr>\n",
       "      <th>Ingeniería</th>\n",
       "      <td>76.548532</td>\n",
       "    </tr>\n",
       "  </tbody>\n",
       "</table>\n",
       "</div>"
      ],
      "text/plain": [
       "                    NotaTotal\n",
       "NombreFacultad               \n",
       "Ciencias Politicas  77.192634\n",
       "Medicina            76.603636\n",
       "Ingeniería          76.548532"
      ]
     },
     "execution_count": 57,
     "metadata": {},
     "output_type": "execute_result"
    }
   ],
   "source": [
    "import pyodbc \n",
    "import pandas as pd\n",
    "conn = pyodbc.connect('Driver={SQL Server};'\n",
    "                      'Server=localhost;'\n",
    "                      'Database=Admisiones_DWH;'\n",
    "                      'Trusted_Connection=yes;')\n",
    "df= pd.io.sql.read_sql('''\n",
    "SELECT DC.NombreFacultad, E.NotaTotal\n",
    "FROM Dimension.Carrera DC INNER JOIN\n",
    "Fact.Examen E ON (DC.SK_Carrera = E.SK_Carrera)\n",
    "                          ''', conn)\n",
    "Agrupado = df.groupby('NombreFacultad').mean('NotaTotal')\n",
    "Agrupado.nlargest(3,'NotaTotal')"
   ]
  },
  {
   "cell_type": "markdown",
   "metadata": {},
   "source": [
    "# Utilice las librerías para plot (graficas) y cree las siguientes graficas"
   ]
  },
  {
   "cell_type": "markdown",
   "metadata": {},
   "source": [
    "## Un grafico de pie con la cantidad de exámenes agrupados por facultad"
   ]
  },
  {
   "cell_type": "code",
   "execution_count": 50,
   "metadata": {},
   "outputs": [
    {
     "data": {
      "text/plain": [
       "<AxesSubplot:ylabel='SK_Examen'>"
      ]
     },
     "execution_count": 50,
     "metadata": {},
     "output_type": "execute_result"
    },
    {
     "data": {
      "image/png": "[encoded data removed]",
      "text/plain": [
       "<Figure size 1728x864 with 1 Axes>"
      ]
     },
     "metadata": {},
     "output_type": "display_data"
    }
   ],
   "source": [
    "import matplotlib as mpl\n",
    "Query1.plot.pie(y='SK_Examen',figsize=(24,12))"
   ]
  },
  {
   "cell_type": "markdown",
   "metadata": {},
   "source": [
    "## Un grafico de barras con el promedio de la nota agrupado por carrera"
   ]
  },
  {
   "cell_type": "code",
   "execution_count": 56,
   "metadata": {},
   "outputs": [
    {
     "data": {
      "text/plain": [
       "<AxesSubplot:xlabel='NombreCarrera'>"
      ]
     },
     "execution_count": 56,
     "metadata": {},
     "output_type": "execute_result"
    },
    {
     "data": {
      "image/png": "[encoded data removed]",
      "text/plain": [
       "<Figure size 432x288 with 1 Axes>"
      ]
     },
     "metadata": {
      "needs_background": "light"
     },
     "output_type": "display_data"
    }
   ],
   "source": [
    "import pyodbc \n",
    "import pandas as pd\n",
    "conn = pyodbc.connect('Driver={SQL Server};'\n",
    "                      'Server=localhost;'\n",
    "                      'Database=Admisiones_DWH;'\n",
    "                      'Trusted_Connection=yes;')\n",
    "df= pd.io.sql.read_sql('''\n",
    "SELECT E.NotaTotal, C.NombreCarrera\n",
    "FROM Fact.Examen E INNER JOIN \n",
    "Dimension.Carrera C ON (E.SK_Carrera = C.SK_Carrera)\n",
    "                          ''', conn)\n",
    "Agrupado2 = df.groupby('NombreCarrera').mean('NotaTotal')\n",
    "Agrupado.plot(kind = 'bar')"
   ]
  },
  {
   "cell_type": "markdown",
   "metadata": {},
   "source": [
    "## Un grafico de línea con la cantidad de exámenes por año"
   ]
  },
  {
   "cell_type": "code",
   "execution_count": 66,
   "metadata": {},
   "outputs": [
    {
     "data": {
      "text/plain": [
       "<AxesSubplot:xlabel='Year'>"
      ]
     },
     "execution_count": 66,
     "metadata": {},
     "output_type": "execute_result"
    },
    {
     "data": {
      "image/png": "[encoded data removed]",
      "text/plain": [
       "<Figure size 432x288 with 1 Axes>"
      ]
     },
     "metadata": {
      "needs_background": "light"
     },
     "output_type": "display_data"
    }
   ],
   "source": [
    "import pyodbc \n",
    "import pandas as pd\n",
    "conn = pyodbc.connect('Driver={SQL Server};'\n",
    "                      'Server=localhost;'\n",
    "                      'Database=Admisiones_DWH;'\n",
    "                      'Trusted_Connection=yes;')\n",
    "df= pd.io.sql.read_sql('''\n",
    "SELECT E.SK_Examen, F.Year FROM Fact.Examen E INNER JOIN Dimension.Fecha F ON (E.DateKey = F.DateKey)\n",
    "                          ''', conn)\n",
    "ExamenesPorAnio = df.groupby('Year').count()\n",
    "ExamenesPorAnio.plot.line(color={\"SK_Examen\": \"red\"})"
   ]
  }
 ],
 "metadata": {
  "interpreter": {
   "hash": "9bda471b13ef6117d5735d91ee0151ed3df36e91ae5aa7843452afdea7d023bf"
  },
  "kernelspec": {
   "display_name": "Python 3.9.7 64-bit (windows store)",
   "name": "python3"
  },
  "language_info": {
   "codemirror_mode": {
    "name": "ipython",
    "version": 3
   },
   "file_extension": ".py",
   "mimetype": "text/x-python",
   "name": "python",
   "nbconvert_exporter": "python",
   "pygments_lexer": "ipython3",
   "version": "3.9.7"
  },
  "orig_nbformat": 4
 },
 "nbformat": 4,
 "nbformat_minor": 2
}
